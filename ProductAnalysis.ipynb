{
 "cells": [
  {
   "cell_type": "markdown",
   "metadata": {},
   "source": [
    "<h1>Product Analysis for Repeat Buyers</h1>"
   ]
  },
  {
   "cell_type": "code",
   "execution_count": 1,
   "metadata": {},
   "outputs": [],
   "source": [
    "import pandas as pd\n",
    "import numpy as np\n",
    "from functools import reduce"
   ]
  },
  {
   "cell_type": "code",
   "execution_count": 2,
   "metadata": {},
   "outputs": [
    {
     "data": {
      "text/plain": [
       "Order ID                 int64\n",
       "Order Date              object\n",
       "Full Name (Billing)     object\n",
       "Phone (Billing)         object\n",
       "Item ID                float64\n",
       "Item Cost              float64\n",
       "Item Name               object\n",
       "dtype: object"
      ]
     },
     "execution_count": 2,
     "metadata": {},
     "output_type": "execute_result"
    }
   ],
   "source": [
    "#change source file path\n",
    "df = pd.read_csv('C:/Users/toshiba/Desktop/AT&R/FP_src_prod.csv')\n",
    "df.dtypes"
   ]
  },
  {
   "cell_type": "code",
   "execution_count": 3,
   "metadata": {},
   "outputs": [],
   "source": [
    "df['Customer ID'] = df['Phone (Billing)'].str[-7:]                 #this picks last 7 digits as ID\n",
    "df['Customer ID'] = 'FP' + df['Customer ID'].astype(str)           #this adds company prefix to the ID, 'FP' in this case"
   ]
  },
  {
   "cell_type": "code",
   "execution_count": 4,
   "metadata": {},
   "outputs": [],
   "source": [
    "#Remove customers who have made less than 2 purchases\n",
    "df_rpbuyers = df.groupby('Customer ID').agg({'Order ID': lambda y: len(y.unique())})\n",
    "df_rpbuyers = df_rpbuyers.drop(df_rpbuyers[df_rpbuyers['Order ID'] < 2].index)"
   ]
  },
  {
   "cell_type": "code",
   "execution_count": 5,
   "metadata": {},
   "outputs": [
    {
     "data": {
      "text/plain": [
       "Order ID                 int64\n",
       "Order Date              object\n",
       "Full Name (Billing)     object\n",
       "Phone (Billing)         object\n",
       "Item ID                float64\n",
       "Item Cost              float64\n",
       "Item Name               object\n",
       "Customer ID             object\n",
       "dtype: object"
      ]
     },
     "execution_count": 5,
     "metadata": {},
     "output_type": "execute_result"
    }
   ],
   "source": [
    "df.dtypes"
   ]
  },
  {
   "cell_type": "code",
   "execution_count": 6,
   "metadata": {},
   "outputs": [
    {
     "data": {
      "text/plain": [
       "Order ID                        int64\n",
       "Order Date             datetime64[ns]\n",
       "Full Name (Billing)            object\n",
       "Phone (Billing)                object\n",
       "Item ID                       float64\n",
       "Item Cost                     float64\n",
       "Item Name                      object\n",
       "Customer ID                    object\n",
       "dtype: object"
      ]
     },
     "execution_count": 6,
     "metadata": {},
     "output_type": "execute_result"
    }
   ],
   "source": [
    "#if Order data is not of date type, then change its data type\n",
    "df['Order Date'] = df['Order Date'].astype('datetime64[ns]')\n",
    "df.dtypes"
   ]
  },
  {
   "cell_type": "code",
   "execution_count": 7,
   "metadata": {},
   "outputs": [],
   "source": [
    "#Smallest Order Date\n",
    "df1 = df.groupby('Customer ID')['Order Date'].nsmallest(1).groupby(level='Customer ID').last() \n",
    "\n",
    "#Second Smallest Order Date\n",
    "df2 = df.groupby('Customer ID')['Order Date'].nsmallest(2).groupby(level='Customer ID').last()   \n",
    "\n",
    "#Third Smallest Order Date\n",
    "df3 = df.groupby('Customer ID')['Order Date'].nsmallest(3).groupby(level='Customer ID').last()\n",
    "\n",
    "#Fourth Smallest Order Date\n",
    "df4 = df.groupby('Customer ID')['Order Date'].nsmallest(4).groupby(level='Customer ID').last()"
   ]
  },
  {
   "cell_type": "code",
   "execution_count": 8,
   "metadata": {},
   "outputs": [],
   "source": [
    "dfs = [df1, df2, df3, df4, df_rpbuyers]"
   ]
  },
  {
   "cell_type": "code",
   "execution_count": 9,
   "metadata": {},
   "outputs": [],
   "source": [
    "#join all dataframes on the basis of customer id\n",
    "df_merged = reduce(lambda  left,right: pd.merge(left,right,on=['Customer ID'], how='inner'), dfs)"
   ]
  },
  {
   "cell_type": "code",
   "execution_count": 10,
   "metadata": {},
   "outputs": [],
   "source": [
    "#rename columns\n",
    "df_merged.columns = ['First Order Date', 'Second Order Date', \n",
    "                     'Third Order Date', 'Fourth Order Date', 'Number of Orders Placed']\n"
   ]
  },
  {
   "cell_type": "code",
   "execution_count": 11,
   "metadata": {},
   "outputs": [],
   "source": [
    "for i,row in df_merged.iterrows():\n",
    "    if df_merged.loc[i,\"Number of Orders Placed\"] == 2: \n",
    "        df_merged.loc[i,\"Third Order Date\"] = ' '\n",
    "        df_merged.loc[i, 'Fourth Order Date'] = ' '\n",
    "    elif df_merged.loc[i,\"Number of Orders Placed\"] == 3:  \n",
    "        df_merged.loc[i, \"Fourth Order Date\"] = ' '"
   ]
  },
  {
   "cell_type": "code",
   "execution_count": 12,
   "metadata": {},
   "outputs": [],
   "source": [
    "df_joined = df.join(df_merged, on='Customer ID', how='inner')\n",
    "first_order_item = df_joined[['Customer ID', 'Item ID', 'Item Name']].loc[df_joined['Order Date'] == df_joined['First Order Date']]\n",
    "second_order_item = df_joined[['Customer ID', 'Item ID', 'Item Name']].loc[df_joined['Order Date'] == df_joined['Second Order Date']]\n",
    "third_order_item = df_joined[['Customer ID', 'Item ID', 'Item Name']].loc[df_joined['Order Date'] == df_joined['Third Order Date']]\n",
    "fourth_order_item = df_joined[['Customer ID', 'Item ID', 'Item Name']].loc[df_joined['Order Date'] == df_joined['Fourth Order Date']]\n",
    "mydfs = [first_order_item, second_order_item, third_order_item, fourth_order_item]\n",
    "finaldf = reduce(lambda  left,right: pd.merge(left,right,on=['Customer ID'], how='outer'), mydfs)"
   ]
  },
  {
   "cell_type": "code",
   "execution_count": 13,
   "metadata": {},
   "outputs": [],
   "source": [
    "finaldf.columns = ['Customer ID', 'ITEM 1', 'First Item Name', 'ITEM 2', 'Second Item Name', 'ITEM 3', 'Third Item Name', 'ITEM 4', 'Fourth Item Name']"
   ]
  },
  {
   "cell_type": "code",
   "execution_count": 14,
   "metadata": {},
   "outputs": [],
   "source": [
    "#change destination file name\n",
    "finaldf.to_csv('C:/Users/toshiba/Desktop/AT&R/FP_dest_prod.csv')"
   ]
  }
 ],
 "metadata": {
  "kernelspec": {
   "display_name": "Python 3",
   "language": "python",
   "name": "python3"
  },
  "language_info": {
   "codemirror_mode": {
    "name": "ipython",
    "version": 3
   },
   "file_extension": ".py",
   "mimetype": "text/x-python",
   "name": "python",
   "nbconvert_exporter": "python",
   "pygments_lexer": "ipython3",
   "version": "3.7.3"
  }
 },
 "nbformat": 4,
 "nbformat_minor": 2
}
